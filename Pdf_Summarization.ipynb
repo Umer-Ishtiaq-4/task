{
  "cells": [
    {
      "cell_type": "markdown",
      "metadata": {},
      "source": [
        "PDF Summarization\n"
      ]
    },
    {
      "cell_type": "code",
      "execution_count": null,
      "metadata": {},
      "outputs": [],
      "source": [
        "!python --version"
      ]
    },
    {
      "cell_type": "code",
      "execution_count": null,
      "metadata": {
        "id": "nLiC-JDkWAzL"
      },
      "outputs": [],
      "source": [
        "# !pip install pandas\n",
        "# !pip install langchain\n",
        "# !pip install pypdf\n",
        "# !pip install openai\n",
        "# !pip install tiktoken\n",
        "# pip install python-dotenv\n",
        "# pip install reportlab\n"
      ]
    },
    {
      "cell_type": "code",
      "execution_count": 2,
      "metadata": {
        "id": "QZ6rABW6b-i2"
      },
      "outputs": [],
      "source": [
        "from langchain import PromptTemplate\n",
        "from langchain.chains.summarize import load_summarize_chain\n",
        "from langchain.document_loaders import PyPDFLoader\n",
        "from langchain.llms import OpenAI\n",
        "import os\n",
        "import pandas as pd\n",
        "from pathlib import Path as p\n",
        "import re\n",
        "import time"
      ]
    },
    {
      "cell_type": "code",
      "execution_count": 7,
      "metadata": {},
      "outputs": [],
      "source": [
        "from dotenv import load_dotenv\n",
        "load_dotenv()\n",
        "os.environ['OPENAI_API_KEY'] = os.getenv(\"API_KEY\")"
      ]
    },
    {
      "cell_type": "code",
      "execution_count": 8,
      "metadata": {
        "id": "amXFIoebchPx"
      },
      "outputs": [],
      "source": [
        "openai_llm = OpenAI(temperature=0.25)\n",
        "# openai_llm = OpenAI(model=\"babbage-002\", temperature=0.25)"
      ]
    },
    {
      "cell_type": "code",
      "execution_count": 9,
      "metadata": {
        "id": "DotC0UD9d14I"
      },
      "outputs": [],
      "source": [
        "pdf_loader = PyPDFLoader('crime-and-punishment.pdf')"
      ]
    },
    {
      "cell_type": "code",
      "execution_count": 10,
      "metadata": {
        "id": "rwSn7eZYf9Ue"
      },
      "outputs": [],
      "source": [
        "pages = pdf_loader.load_and_split()"
      ]
    },
    {
      "cell_type": "code",
      "execution_count": 11,
      "metadata": {
        "id": "nA_6Y18zkjbE"
      },
      "outputs": [],
      "source": [
        "# Removed last summary\n",
        "pages = pages[:743]"
      ]
    },
    {
      "cell_type": "code",
      "execution_count": 12,
      "metadata": {},
      "outputs": [
        {
          "data": {
            "text/plain": [
              "Document(page_content='Download free eBooks of classic literature, books and \\nnovels at Planet eBook. Subscribe to our free eBooks blog \\nand email newsletter.Crime and Punishment\\nBy Fyodor Dostoevsky', metadata={'source': 'crime-and-punishment.pdf', 'page': 0})"
            ]
          },
          "execution_count": 12,
          "metadata": {},
          "output_type": "execute_result"
        }
      ],
      "source": [
        "pages[0]"
      ]
    },
    {
      "cell_type": "markdown",
      "metadata": {},
      "source": [
        "Pre Processing"
      ]
    },
    {
      "cell_type": "code",
      "execution_count": 15,
      "metadata": {
        "id": "ki_jlLjglKbn"
      },
      "outputs": [],
      "source": [
        "removed_string = [\"Free eBooks at Planet eBook.comIlya\", \"Crime and Punishment\", \"Free eBooks at Planet eBook.com\", \"\\n\", \"\\x18\"]"
      ]
    },
    {
      "cell_type": "code",
      "execution_count": 16,
      "metadata": {},
      "outputs": [],
      "source": [
        "def remove_strings(text, strings_to_remove):\n",
        "    # print(text, strings_to_remove)\n",
        "    for string in strings_to_remove:\n",
        "        text = text.replace(string, '')\n",
        "    return text"
      ]
    },
    {
      "cell_type": "code",
      "execution_count": 17,
      "metadata": {},
      "outputs": [],
      "source": [
        "for i,_ in enumerate(pages):\n",
        "    pages[i].page_content = remove_strings(pages[i].page_content, removed_string)\n",
        "    "
      ]
    },
    {
      "cell_type": "markdown",
      "metadata": {},
      "source": [
        "Number of words"
      ]
    },
    {
      "cell_type": "code",
      "execution_count": 18,
      "metadata": {
        "id": "P2dq12Wph5v9"
      },
      "outputs": [
        {
          "name": "stdout",
          "output_type": "stream",
          "text": [
            "Number of words:  198282\n"
          ]
        }
      ],
      "source": [
        "total_word_count = 0\n",
        "for page in pages:\n",
        "  total_word_count = total_word_count + len(page.page_content.split(' '))\n",
        "print('Number of words: ', total_word_count)"
      ]
    },
    {
      "cell_type": "markdown",
      "metadata": {},
      "source": [
        "Summarization Prompt"
      ]
    },
    {
      "cell_type": "code",
      "execution_count": 19,
      "metadata": {
        "id": "IEEz6-tQjKEK"
      },
      "outputs": [],
      "source": [
        "prompt_template = \"\"\"\n",
        "Write a summary of this chunk of text that includes the important details\n",
        "```{text}```\n",
        "\"\"\"\n",
        "prompt = PromptTemplate(template=prompt_template, input_variables=['text'])"
      ]
    },
    {
      "cell_type": "code",
      "execution_count": 20,
      "metadata": {
        "id": "3EW7fW8EgQ_x"
      },
      "outputs": [],
      "source": [
        "refine_prompt_template = \"\"\"\n",
        "Write a summary of following text delimited by triple quote backquotes\n",
        "Return your response which covers the main story event of the text. \n",
        "```{text}```\n",
        "\"\"\"\n",
        "refine_prompt = PromptTemplate(template=refine_prompt_template, input_variables=['text'])"
      ]
    },
    {
      "cell_type": "code",
      "execution_count": 21,
      "metadata": {
        "id": "OuuZ1oGQhjeX"
      },
      "outputs": [],
      "source": [
        "refine_chain = load_summarize_chain(\n",
        "    llm=openai_llm,\n",
        "    chain_type=\"refine\",\n",
        "    question_prompt=prompt,\n",
        "    refine_prompt=refine_prompt,\n",
        "    return_intermediate_steps= True\n",
        ")"
      ]
    },
    {
      "cell_type": "markdown",
      "metadata": {},
      "source": [
        "Chunks of text\n"
      ]
    },
    {
      "cell_type": "code",
      "execution_count": 22,
      "metadata": {},
      "outputs": [],
      "source": [
        "class New_Book:\n",
        "    def __init__(self, page_content, book_name='crime-and-punishment.pdf', page_number=0):\n",
        "        self.page_content = page_content\n",
        "        self.metadata = {\n",
        "            \"source\": book_name,\n",
        "            \"page\": page_number\n",
        "        }"
      ]
    },
    {
      "cell_type": "code",
      "execution_count": 23,
      "metadata": {},
      "outputs": [],
      "source": [
        "new_book_page = []\n",
        "current_page_number, new_page_number, limit = 0, 0, 8 # 9 pages -> approx. 3.5k tokens\n",
        "while(current_page_number <= (len(pages) + limit)):\n",
        "    counter = 0\n",
        "    text = ''\n",
        "    \n",
        "    while (counter < limit) and (current_page_number + counter < len(pages)):\n",
        "        # print(counter)\n",
        "        text += pages[current_page_number + counter].page_content\n",
        "        counter += 1\n",
        "     \n",
        "    new_book_page.append(New_Book(text, page_number=new_page_number))\n",
        "    new_page_number += 1\n",
        "    current_page_number += limit"
      ]
    },
    {
      "cell_type": "code",
      "execution_count": 24,
      "metadata": {},
      "outputs": [],
      "source": [
        "# Shorten Story Book Content\n",
        "new_book_page = new_book_page[:50] + new_book_page[85:90]"
      ]
    },
    {
      "cell_type": "markdown",
      "metadata": {},
      "source": [
        "Summarization"
      ]
    },
    {
      "cell_type": "code",
      "execution_count": 26,
      "metadata": {},
      "outputs": [],
      "source": [
        "summary_dict_data = {}"
      ]
    },
    {
      "cell_type": "code",
      "execution_count": null,
      "metadata": {},
      "outputs": [],
      "source": [
        "iter_number = 0\n",
        "index_number = 0\n",
        "while(iter_number < len(new_book_page)):\n",
        "    print(\"Index Number: \" ,index_number)\n",
        "    refine_chain_outputs = refine_chain({'input_documents': new_book_page[iter_number:iter_number+2]})\n",
        "    time.sleep(60)\n",
        "    summary_dict_data[index_number] = refine_chain_outputs\n",
        "\n",
        "    iter_number = iter_number + 2\n",
        "    index_number += 1 \n"
      ]
    },
    {
      "cell_type": "code",
      "execution_count": 65,
      "metadata": {},
      "outputs": [],
      "source": [
        "# Appending all the summaries\n",
        "summaries = []\n",
        "for idx_i in range(len(summary_dict_data)):\n",
        "    for idx_j,val in enumerate(summary_dict_data[idx_i]['intermediate_steps']):\n",
        "        summaries.append(val)"
      ]
    },
    {
      "cell_type": "code",
      "execution_count": 70,
      "metadata": {
        "id": "i1S_YsAMljDd"
      },
      "outputs": [],
      "source": [
        "final_data = []\n",
        "for doc, out in zip(new_book_page, summaries):\n",
        "  output = {}\n",
        "  output['file_name'] = p(doc.metadata[\"source\"]).stem\n",
        "  output['file_type'] = p(doc.metadata[\"source\"]).suffix\n",
        "  output['page_number'] = doc.metadata[\"page\"]\n",
        "  output['chunks'] = doc.page_content\n",
        "  output['concise_summary'] = out\n",
        "  final_data.append(output)"
      ]
    },
    {
      "cell_type": "code",
      "execution_count": 71,
      "metadata": {
        "id": "HCV6tMTfosBy"
      },
      "outputs": [],
      "source": [
        "summary_df = pd.DataFrame.from_dict(final_data)\n",
        "summary_df = summary_df.sort_values(\n",
        "    by=[\"file_name\", \"page_number\"]\n",
        ")"
      ]
    },
    {
      "cell_type": "code",
      "execution_count": 79,
      "metadata": {},
      "outputs": [
        {
          "data": {
            "text/html": [
              "<div>\n",
              "<style scoped>\n",
              "    .dataframe tbody tr th:only-of-type {\n",
              "        vertical-align: middle;\n",
              "    }\n",
              "\n",
              "    .dataframe tbody tr th {\n",
              "        vertical-align: top;\n",
              "    }\n",
              "\n",
              "    .dataframe thead th {\n",
              "        text-align: right;\n",
              "    }\n",
              "</style>\n",
              "<table border=\"1\" class=\"dataframe\">\n",
              "  <thead>\n",
              "    <tr style=\"text-align: right;\">\n",
              "      <th></th>\n",
              "      <th>file_name</th>\n",
              "      <th>file_type</th>\n",
              "      <th>page_number</th>\n",
              "      <th>chunks</th>\n",
              "      <th>concise_summary</th>\n",
              "    </tr>\n",
              "  </thead>\n",
              "  <tbody>\n",
              "    <tr>\n",
              "      <th>50</th>\n",
              "      <td>crime-and-punishment</td>\n",
              "      <td>.pdf</td>\n",
              "      <td>85</td>\n",
              "      <td>1 Intense disgust drew him away from Svidrigaï...</td>\n",
              "      <td>\\nRaskolnikov is shocked to find out that Svid...</td>\n",
              "    </tr>\n",
              "    <tr>\n",
              "      <th>51</th>\n",
              "      <td>crime-and-punishment</td>\n",
              "      <td>.pdf</td>\n",
              "      <td>86</td>\n",
              "      <td>we’ve talked of this more than once before. I...</td>\n",
              "      <td>\\nDounia is trying to save her brother from be...</td>\n",
              "    </tr>\n",
              "    <tr>\n",
              "      <th>52</th>\n",
              "      <td>crime-and-punishment</td>\n",
              "      <td>.pdf</td>\n",
              "      <td>87</td>\n",
              "      <td>Chapter VIHe spent that evening till ten o’cl...</td>\n",
              "      <td>\\nSvidrigailov spends the evening going to low...</td>\n",
              "    </tr>\n",
              "    <tr>\n",
              "      <th>53</th>\n",
              "      <td>crime-and-punishment</td>\n",
              "      <td>.pdf</td>\n",
              "      <td>88</td>\n",
              "      <td>0 his attention. The murmur had not ceased fro...</td>\n",
              "      <td>\\nSvidrigailov enters a room and hears someone...</td>\n",
              "    </tr>\n",
              "    <tr>\n",
              "      <th>54</th>\n",
              "      <td>crime-and-punishment</td>\n",
              "      <td>.pdf</td>\n",
              "      <td>89</td>\n",
              "      <td>1 to control them. But now she quite gave up a...</td>\n",
              "      <td>\\nRaskolnikov visits his mother and sister in ...</td>\n",
              "    </tr>\n",
              "  </tbody>\n",
              "</table>\n",
              "</div>"
            ],
            "text/plain": [
              "               file_name file_type  page_number  \\\n",
              "50  crime-and-punishment      .pdf           85   \n",
              "51  crime-and-punishment      .pdf           86   \n",
              "52  crime-and-punishment      .pdf           87   \n",
              "53  crime-and-punishment      .pdf           88   \n",
              "54  crime-and-punishment      .pdf           89   \n",
              "\n",
              "                                               chunks  \\\n",
              "50  1 Intense disgust drew him away from Svidrigaï...   \n",
              "51   we’ve talked of this more than once before. I...   \n",
              "52   Chapter VIHe spent that evening till ten o’cl...   \n",
              "53  0 his attention. The murmur had not ceased fro...   \n",
              "54  1 to control them. But now she quite gave up a...   \n",
              "\n",
              "                                      concise_summary  \n",
              "50  \\nRaskolnikov is shocked to find out that Svid...  \n",
              "51  \\nDounia is trying to save her brother from be...  \n",
              "52  \\nSvidrigailov spends the evening going to low...  \n",
              "53  \\nSvidrigailov enters a room and hears someone...  \n",
              "54  \\nRaskolnikov visits his mother and sister in ...  "
            ]
          },
          "execution_count": 79,
          "metadata": {},
          "output_type": "execute_result"
        }
      ],
      "source": [
        "summary_df.tail(5)"
      ]
    },
    {
      "cell_type": "markdown",
      "metadata": {},
      "source": [
        "Saving summary to pdf"
      ]
    },
    {
      "cell_type": "code",
      "execution_count": 75,
      "metadata": {},
      "outputs": [],
      "source": [
        "from reportlab.lib.pagesizes import letter\n",
        "from reportlab.platypus import SimpleDocTemplate, Paragraph, Spacer\n",
        "from reportlab.lib.styles import getSampleStyleSheet\n",
        "\n",
        "def create_pdf_with_text(title, summaries, output_filename):\n",
        "    doc = SimpleDocTemplate(output_filename, pagesize=letter)\n",
        "    styles = getSampleStyleSheet()\n",
        "    story = []\n",
        "\n",
        "    # Title\n",
        "    title_paragraph = Paragraph(title, styles[\"Title\"])\n",
        "    story.append(title_paragraph)\n",
        "\n",
        "    for text in summaries:\n",
        "        # Add a summary paragraph\n",
        "        summary_paragraph = Paragraph(text, styles[\"Normal\"])\n",
        "        story.append(summary_paragraph)\n",
        "\n",
        "        # Add a new line break (spacer) after each summary\n",
        "        story.append(Spacer(1, 12))  # Adjust the second argument for spacing\n",
        "\n",
        "    # Build the PDF document\n",
        "    doc.build(story)\n"
      ]
    },
    {
      "cell_type": "code",
      "execution_count": 76,
      "metadata": {},
      "outputs": [
        {
          "name": "stdout",
          "output_type": "stream",
          "text": [
            "File Updated\n"
          ]
        }
      ],
      "source": [
        "title = \"Summary: Crime and Punishment\"\n",
        "output_file = \"summary.pdf\"\n",
        "create_pdf_with_text(title, summaries, output_file)\n",
        "print(\"File Updated\")"
      ]
    },
    {
      "cell_type": "code",
      "execution_count": null,
      "metadata": {},
      "outputs": [],
      "source": []
    }
  ],
  "metadata": {
    "colab": {
      "provenance": []
    },
    "kernelspec": {
      "display_name": "Python 3",
      "name": "python3"
    },
    "language_info": {
      "codemirror_mode": {
        "name": "ipython",
        "version": 3
      },
      "file_extension": ".py",
      "mimetype": "text/x-python",
      "name": "python",
      "nbconvert_exporter": "python",
      "pygments_lexer": "ipython3",
      "version": "3.11.3"
    }
  },
  "nbformat": 4,
  "nbformat_minor": 0
}
